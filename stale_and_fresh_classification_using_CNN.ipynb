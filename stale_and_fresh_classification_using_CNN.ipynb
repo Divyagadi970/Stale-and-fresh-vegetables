{
  "nbformat": 4,
  "nbformat_minor": 0,
  "metadata": {
    "colab": {
      "provenance": []
    },
    "kernelspec": {
      "name": "python3",
      "display_name": "Python 3"
    },
    "language_info": {
      "name": "python"
    },
    "accelerator": "GPU",
    "gpuClass": "standard"
  },
  "cells": [
    {
      "cell_type": "code",
      "execution_count": 1,
      "metadata": {
        "id": "7PWTYPp6i6bT"
      },
      "outputs": [],
      "source": [
        "filepath = \"/content/drive/MyDrive/sales and fresh veg/archive.zip\""
      ]
    },
    {
      "cell_type": "code",
      "source": [
        "from zipfile import ZipFile\n",
        "\n",
        "with ZipFile(filepath) as f:\n",
        "  f.extractall(\"./salesveg\")\n",
        "  print(\"Data extracted\")\n",
        "     "
      ],
      "metadata": {
        "colab": {
          "base_uri": "https://localhost:8080/"
        },
        "id": "ZDF7JhmWjKT4",
        "outputId": "0bb02a1d-8652-4cf4-bf4f-3cc2b1448a49"
      },
      "execution_count": 2,
      "outputs": [
        {
          "output_type": "stream",
          "name": "stdout",
          "text": [
            "Data extracted\n"
          ]
        }
      ]
    },
    {
      "cell_type": "code",
      "source": [
        "\n",
        "import tensorflow as tf\n",
        "from PIL import Image\n",
        "from tensorflow.keras import layers\n"
      ],
      "metadata": {
        "id": "lK3YEGUVlxgl"
      },
      "execution_count": 3,
      "outputs": []
    },
    {
      "cell_type": "code",
      "source": [
        "image = Image.open(\"/content/salesveg/fresh_banana/Screen Shot 2018-06-12 at 10.00.00 PM.png\")\n",
        "image.size\n",
        "     "
      ],
      "metadata": {
        "colab": {
          "base_uri": "https://localhost:8080/"
        },
        "id": "k_1a1GTunAX0",
        "outputId": "50c6795b-27ab-4709-999f-bef118c197d2"
      },
      "execution_count": 4,
      "outputs": [
        {
          "output_type": "execute_result",
          "data": {
            "text/plain": [
              "(446, 336)"
            ]
          },
          "metadata": {},
          "execution_count": 4
        }
      ]
    },
    {
      "cell_type": "code",
      "source": [
        "data = tf.keras.utils.image_dataset_from_directory(\n",
        "    \"/content/salesveg\",\n",
        "    image_size=(64,64),\n",
        "    color_mode=\"rgb\",\n",
        "    batch_size=14682\n",
        ")\n",
        "     "
      ],
      "metadata": {
        "colab": {
          "base_uri": "https://localhost:8080/"
        },
        "id": "s0ew8eF2obtA",
        "outputId": "1153426a-d620-4c47-8687-02321902b263"
      },
      "execution_count": 5,
      "outputs": [
        {
          "output_type": "stream",
          "name": "stdout",
          "text": [
            "Found 14682 files belonging to 12 classes.\n"
          ]
        }
      ]
    },
    {
      "cell_type": "code",
      "source": [
        "\n",
        "len(data)"
      ],
      "metadata": {
        "colab": {
          "base_uri": "https://localhost:8080/"
        },
        "id": "vjoto54Jq--P",
        "outputId": "2c5eca0d-e0bd-455d-a707-e3a2af37104b"
      },
      "execution_count": 6,
      "outputs": [
        {
          "output_type": "execute_result",
          "data": {
            "text/plain": [
              "1"
            ]
          },
          "metadata": {},
          "execution_count": 6
        }
      ]
    },
    {
      "cell_type": "code",
      "source": [
        "\n",
        "model=tf.keras.Sequential([\n",
        "    layers.Conv2D(18,5,padding=\"same\", activation=\"relu\", input_shape=(64,64,3)),\n",
        "    layers.MaxPool2D(),\n",
        "    layers.Conv2D(18,3,padding=\"same\", activation=\"leaky_relu\"),\n",
        "    layers.MaxPool2D(),\n",
        "    layers.Conv2D(36,3,padding=\"same\", activation=\"leaky_relu\"),\n",
        "    layers.MaxPool2D(),\n",
        "    layers.Conv2D(36,3,padding=\"same\", activation=\"leaky_relu\"),\n",
        "    layers.MaxPool2D(),\n",
        "    layers.Flatten(),\n",
        "    layers.Dense(100,activation=\"relu\"),\n",
        "    layers.Dense(12),\n",
        "    layers.Softmax()\n",
        "])\n",
        "     \n"
      ],
      "metadata": {
        "id": "Wq42YHNerBg_"
      },
      "execution_count": 7,
      "outputs": []
    },
    {
      "cell_type": "code",
      "source": [
        "\n",
        "model.summary()"
      ],
      "metadata": {
        "colab": {
          "base_uri": "https://localhost:8080/"
        },
        "id": "ZaqAIhztrKEm",
        "outputId": "453d6a60-09a7-407f-a764-bdf985309b47"
      },
      "execution_count": 8,
      "outputs": [
        {
          "output_type": "stream",
          "name": "stdout",
          "text": [
            "Model: \"sequential\"\n",
            "_________________________________________________________________\n",
            " Layer (type)                Output Shape              Param #   \n",
            "=================================================================\n",
            " conv2d (Conv2D)             (None, 64, 64, 18)        1368      \n",
            "                                                                 \n",
            " max_pooling2d (MaxPooling2D  (None, 32, 32, 18)       0         \n",
            " )                                                               \n",
            "                                                                 \n",
            " conv2d_1 (Conv2D)           (None, 32, 32, 18)        2934      \n",
            "                                                                 \n",
            " max_pooling2d_1 (MaxPooling  (None, 16, 16, 18)       0         \n",
            " 2D)                                                             \n",
            "                                                                 \n",
            " conv2d_2 (Conv2D)           (None, 16, 16, 36)        5868      \n",
            "                                                                 \n",
            " max_pooling2d_2 (MaxPooling  (None, 8, 8, 36)         0         \n",
            " 2D)                                                             \n",
            "                                                                 \n",
            " conv2d_3 (Conv2D)           (None, 8, 8, 36)          11700     \n",
            "                                                                 \n",
            " max_pooling2d_3 (MaxPooling  (None, 4, 4, 36)         0         \n",
            " 2D)                                                             \n",
            "                                                                 \n",
            " flatten (Flatten)           (None, 576)               0         \n",
            "                                                                 \n",
            " dense (Dense)               (None, 100)               57700     \n",
            "                                                                 \n",
            " dense_1 (Dense)             (None, 12)                1212      \n",
            "                                                                 \n",
            " softmax (Softmax)           (None, 12)                0         \n",
            "                                                                 \n",
            "=================================================================\n",
            "Total params: 80,782\n",
            "Trainable params: 80,782\n",
            "Non-trainable params: 0\n",
            "_________________________________________________________________\n"
          ]
        }
      ]
    },
    {
      "cell_type": "code",
      "source": [
        "model.compile(\n",
        "    loss = tf.keras.losses.categorical_crossentropy,\n",
        "    optimizer = tf.keras.optimizers.Adam(),\n",
        "    metrics = [\"Accuracy\"]\n",
        ")\n"
      ],
      "metadata": {
        "id": "dAFeVcFOreyM"
      },
      "execution_count": 9,
      "outputs": []
    },
    {
      "cell_type": "code",
      "source": [
        "for features,labels in data:\n",
        "    features=tf.divide(features,255)\n",
        "    labels=tf.one_hot(labels,12)\n",
        "    record=model.fit(features,labels,batch_size=40,epochs=100)\n"
      ],
      "metadata": {
        "colab": {
          "base_uri": "https://localhost:8080/"
        },
        "id": "JJcazmJursUC",
        "outputId": "7adec2b7-8467-446e-a1ce-673d87ca7106"
      },
      "execution_count": 10,
      "outputs": [
        {
          "output_type": "stream",
          "name": "stdout",
          "text": [
            "Epoch 1/100\n",
            "368/368 [==============================] - 11s 6ms/step - loss: 1.1347 - Accuracy: 0.5943\n",
            "Epoch 2/100\n",
            "368/368 [==============================] - 2s 6ms/step - loss: 0.4489 - Accuracy: 0.8374\n",
            "Epoch 3/100\n",
            "368/368 [==============================] - 2s 6ms/step - loss: 0.3050 - Accuracy: 0.8904\n",
            "Epoch 4/100\n",
            "368/368 [==============================] - 2s 6ms/step - loss: 0.2414 - Accuracy: 0.9150\n",
            "Epoch 5/100\n",
            "368/368 [==============================] - 2s 6ms/step - loss: 0.1843 - Accuracy: 0.9311\n",
            "Epoch 6/100\n",
            "368/368 [==============================] - 2s 6ms/step - loss: 0.1840 - Accuracy: 0.9339\n",
            "Epoch 7/100\n",
            "368/368 [==============================] - 2s 6ms/step - loss: 0.1331 - Accuracy: 0.9551\n",
            "Epoch 8/100\n",
            "368/368 [==============================] - 2s 6ms/step - loss: 0.1053 - Accuracy: 0.9622\n",
            "Epoch 9/100\n",
            "368/368 [==============================] - 2s 6ms/step - loss: 0.1178 - Accuracy: 0.9567\n",
            "Epoch 10/100\n",
            "368/368 [==============================] - 2s 6ms/step - loss: 0.0913 - Accuracy: 0.9667\n",
            "Epoch 11/100\n",
            "368/368 [==============================] - 2s 6ms/step - loss: 0.0949 - Accuracy: 0.9651\n",
            "Epoch 12/100\n",
            "368/368 [==============================] - 2s 6ms/step - loss: 0.0773 - Accuracy: 0.9705\n",
            "Epoch 13/100\n",
            "368/368 [==============================] - 2s 6ms/step - loss: 0.1029 - Accuracy: 0.9633\n",
            "Epoch 14/100\n",
            "368/368 [==============================] - 2s 6ms/step - loss: 0.0417 - Accuracy: 0.9856\n",
            "Epoch 15/100\n",
            "368/368 [==============================] - 2s 6ms/step - loss: 0.0563 - Accuracy: 0.9807\n",
            "Epoch 16/100\n",
            "368/368 [==============================] - 2s 6ms/step - loss: 0.0739 - Accuracy: 0.9723\n",
            "Epoch 17/100\n",
            "368/368 [==============================] - 2s 6ms/step - loss: 0.0414 - Accuracy: 0.9860\n",
            "Epoch 18/100\n",
            "368/368 [==============================] - 2s 6ms/step - loss: 0.0451 - Accuracy: 0.9839\n",
            "Epoch 19/100\n",
            "368/368 [==============================] - 2s 6ms/step - loss: 0.0891 - Accuracy: 0.9724\n",
            "Epoch 20/100\n",
            "368/368 [==============================] - 2s 6ms/step - loss: 0.0461 - Accuracy: 0.9841\n",
            "Epoch 21/100\n",
            "368/368 [==============================] - 2s 6ms/step - loss: 0.0368 - Accuracy: 0.9877\n",
            "Epoch 22/100\n",
            "368/368 [==============================] - 2s 6ms/step - loss: 0.0528 - Accuracy: 0.9820\n",
            "Epoch 23/100\n",
            "368/368 [==============================] - 2s 6ms/step - loss: 0.0338 - Accuracy: 0.9880\n",
            "Epoch 24/100\n",
            "368/368 [==============================] - 2s 6ms/step - loss: 0.0357 - Accuracy: 0.9868\n",
            "Epoch 25/100\n",
            "368/368 [==============================] - 2s 6ms/step - loss: 0.0341 - Accuracy: 0.9886\n",
            "Epoch 26/100\n",
            "368/368 [==============================] - 2s 6ms/step - loss: 0.0450 - Accuracy: 0.9840\n",
            "Epoch 27/100\n",
            "368/368 [==============================] - 2s 6ms/step - loss: 0.0573 - Accuracy: 0.9811\n",
            "Epoch 28/100\n",
            "368/368 [==============================] - 2s 6ms/step - loss: 0.0177 - Accuracy: 0.9939\n",
            "Epoch 29/100\n",
            "368/368 [==============================] - 2s 6ms/step - loss: 0.0178 - Accuracy: 0.9927\n",
            "Epoch 30/100\n",
            "368/368 [==============================] - 2s 6ms/step - loss: 0.0674 - Accuracy: 0.9786\n",
            "Epoch 31/100\n",
            "368/368 [==============================] - 2s 6ms/step - loss: 0.0242 - Accuracy: 0.9920\n",
            "Epoch 32/100\n",
            "368/368 [==============================] - 2s 6ms/step - loss: 0.0365 - Accuracy: 0.9877\n",
            "Epoch 33/100\n",
            "368/368 [==============================] - 2s 6ms/step - loss: 0.0296 - Accuracy: 0.9901\n",
            "Epoch 34/100\n",
            "368/368 [==============================] - 2s 6ms/step - loss: 0.0226 - Accuracy: 0.9932\n",
            "Epoch 35/100\n",
            "368/368 [==============================] - 2s 6ms/step - loss: 0.0460 - Accuracy: 0.9864\n",
            "Epoch 36/100\n",
            "368/368 [==============================] - 2s 6ms/step - loss: 0.0098 - Accuracy: 0.9965\n",
            "Epoch 37/100\n",
            "368/368 [==============================] - 2s 7ms/step - loss: 0.0502 - Accuracy: 0.9840\n",
            "Epoch 38/100\n",
            "368/368 [==============================] - 2s 7ms/step - loss: 0.0140 - Accuracy: 0.9952\n",
            "Epoch 39/100\n",
            "368/368 [==============================] - 2s 7ms/step - loss: 0.0432 - Accuracy: 0.9862\n",
            "Epoch 40/100\n",
            "368/368 [==============================] - 2s 6ms/step - loss: 0.0365 - Accuracy: 0.9887\n",
            "Epoch 41/100\n",
            "368/368 [==============================] - 2s 6ms/step - loss: 0.0267 - Accuracy: 0.9920\n",
            "Epoch 42/100\n",
            "368/368 [==============================] - 2s 6ms/step - loss: 0.0151 - Accuracy: 0.9946\n",
            "Epoch 43/100\n",
            "368/368 [==============================] - 2s 6ms/step - loss: 0.0655 - Accuracy: 0.9796\n",
            "Epoch 44/100\n",
            "368/368 [==============================] - 2s 6ms/step - loss: 0.0252 - Accuracy: 0.9937\n",
            "Epoch 45/100\n",
            "368/368 [==============================] - 2s 6ms/step - loss: 0.0072 - Accuracy: 0.9979\n",
            "Epoch 46/100\n",
            "368/368 [==============================] - 2s 6ms/step - loss: 0.0036 - Accuracy: 0.9990\n",
            "Epoch 47/100\n",
            "368/368 [==============================] - 2s 6ms/step - loss: 0.0548 - Accuracy: 0.9849\n",
            "Epoch 48/100\n",
            "368/368 [==============================] - 2s 6ms/step - loss: 0.0259 - Accuracy: 0.9925\n",
            "Epoch 49/100\n",
            "368/368 [==============================] - 2s 6ms/step - loss: 0.0044 - Accuracy: 0.9984\n",
            "Epoch 50/100\n",
            "368/368 [==============================] - 2s 6ms/step - loss: 0.0100 - Accuracy: 0.9968\n",
            "Epoch 51/100\n",
            "368/368 [==============================] - 2s 6ms/step - loss: 0.0760 - Accuracy: 0.9805\n",
            "Epoch 52/100\n",
            "368/368 [==============================] - 2s 6ms/step - loss: 0.0209 - Accuracy: 0.9926\n",
            "Epoch 53/100\n",
            "368/368 [==============================] - 2s 6ms/step - loss: 0.0033 - Accuracy: 0.9990\n",
            "Epoch 54/100\n",
            "368/368 [==============================] - 2s 6ms/step - loss: 0.0313 - Accuracy: 0.9911\n",
            "Epoch 55/100\n",
            "368/368 [==============================] - 2s 6ms/step - loss: 0.0400 - Accuracy: 0.9895\n",
            "Epoch 56/100\n",
            "368/368 [==============================] - 2s 6ms/step - loss: 0.0329 - Accuracy: 0.9894\n",
            "Epoch 57/100\n",
            "368/368 [==============================] - 2s 6ms/step - loss: 0.0062 - Accuracy: 0.9980\n",
            "Epoch 58/100\n",
            "368/368 [==============================] - 2s 6ms/step - loss: 0.0132 - Accuracy: 0.9958\n",
            "Epoch 59/100\n",
            "368/368 [==============================] - 2s 6ms/step - loss: 0.0121 - Accuracy: 0.9963\n",
            "Epoch 60/100\n",
            "368/368 [==============================] - 2s 6ms/step - loss: 0.0664 - Accuracy: 0.9814\n",
            "Epoch 61/100\n",
            "368/368 [==============================] - 2s 6ms/step - loss: 0.0241 - Accuracy: 0.9933\n",
            "Epoch 62/100\n",
            "368/368 [==============================] - 2s 6ms/step - loss: 0.0058 - Accuracy: 0.9983\n",
            "Epoch 63/100\n",
            "368/368 [==============================] - 2s 6ms/step - loss: 0.0288 - Accuracy: 0.9909\n",
            "Epoch 64/100\n",
            "368/368 [==============================] - 2s 6ms/step - loss: 0.0275 - Accuracy: 0.9920\n",
            "Epoch 65/100\n",
            "368/368 [==============================] - 2s 6ms/step - loss: 0.0242 - Accuracy: 0.9931\n",
            "Epoch 66/100\n",
            "368/368 [==============================] - 2s 6ms/step - loss: 0.0480 - Accuracy: 0.9888\n",
            "Epoch 67/100\n",
            "368/368 [==============================] - 2s 6ms/step - loss: 0.0112 - Accuracy: 0.9965\n",
            "Epoch 68/100\n",
            "368/368 [==============================] - 2s 6ms/step - loss: 0.0299 - Accuracy: 0.9909\n",
            "Epoch 69/100\n",
            "368/368 [==============================] - 2s 6ms/step - loss: 0.0038 - Accuracy: 0.9987\n",
            "Epoch 70/100\n",
            "368/368 [==============================] - 2s 6ms/step - loss: 0.0171 - Accuracy: 0.9956\n",
            "Epoch 71/100\n",
            "368/368 [==============================] - 3s 7ms/step - loss: 0.0395 - Accuracy: 0.9884\n",
            "Epoch 72/100\n",
            "368/368 [==============================] - 3s 8ms/step - loss: 0.0129 - Accuracy: 0.9962\n",
            "Epoch 73/100\n",
            "368/368 [==============================] - 2s 6ms/step - loss: 0.0118 - Accuracy: 0.9968\n",
            "Epoch 74/100\n",
            "368/368 [==============================] - 2s 6ms/step - loss: 0.0216 - Accuracy: 0.9941\n",
            "Epoch 75/100\n",
            "368/368 [==============================] - 2s 6ms/step - loss: 0.0334 - Accuracy: 0.9903\n",
            "Epoch 76/100\n",
            "368/368 [==============================] - 2s 6ms/step - loss: 0.0133 - Accuracy: 0.9958\n",
            "Epoch 77/100\n",
            "368/368 [==============================] - 2s 6ms/step - loss: 0.0118 - Accuracy: 0.9964\n",
            "Epoch 78/100\n",
            "368/368 [==============================] - 2s 6ms/step - loss: 0.0038 - Accuracy: 0.9989\n",
            "Epoch 79/100\n",
            "368/368 [==============================] - 2s 6ms/step - loss: 0.0189 - Accuracy: 0.9958\n",
            "Epoch 80/100\n",
            "368/368 [==============================] - 2s 6ms/step - loss: 0.0529 - Accuracy: 0.9856\n",
            "Epoch 81/100\n",
            "368/368 [==============================] - 2s 6ms/step - loss: 0.0076 - Accuracy: 0.9973\n",
            "Epoch 82/100\n",
            "368/368 [==============================] - 2s 6ms/step - loss: 0.0342 - Accuracy: 0.9907\n",
            "Epoch 83/100\n",
            "368/368 [==============================] - 2s 6ms/step - loss: 0.0263 - Accuracy: 0.9931\n",
            "Epoch 84/100\n",
            "368/368 [==============================] - 2s 6ms/step - loss: 0.0310 - Accuracy: 0.9909\n",
            "Epoch 85/100\n",
            "368/368 [==============================] - 2s 6ms/step - loss: 0.0084 - Accuracy: 0.9967\n",
            "Epoch 86/100\n",
            "368/368 [==============================] - 2s 6ms/step - loss: 0.0076 - Accuracy: 0.9974\n",
            "Epoch 87/100\n",
            "368/368 [==============================] - 2s 6ms/step - loss: 0.0011 - Accuracy: 0.9998\n",
            "Epoch 88/100\n",
            "368/368 [==============================] - 2s 6ms/step - loss: 4.3965e-04 - Accuracy: 0.9999\n",
            "Epoch 89/100\n",
            "368/368 [==============================] - 2s 6ms/step - loss: 8.7615e-05 - Accuracy: 1.0000\n",
            "Epoch 90/100\n",
            "368/368 [==============================] - 2s 6ms/step - loss: 3.9506e-05 - Accuracy: 1.0000\n",
            "Epoch 91/100\n",
            "368/368 [==============================] - 2s 6ms/step - loss: 2.7830e-05 - Accuracy: 1.0000\n",
            "Epoch 92/100\n",
            "368/368 [==============================] - 2s 6ms/step - loss: 2.1832e-05 - Accuracy: 1.0000\n",
            "Epoch 93/100\n",
            "368/368 [==============================] - 2s 6ms/step - loss: 1.6368e-05 - Accuracy: 1.0000\n",
            "Epoch 94/100\n",
            "368/368 [==============================] - 2s 6ms/step - loss: 1.4325e-05 - Accuracy: 1.0000\n",
            "Epoch 95/100\n",
            "368/368 [==============================] - 2s 6ms/step - loss: 1.2335e-05 - Accuracy: 1.0000\n",
            "Epoch 96/100\n",
            "368/368 [==============================] - 2s 6ms/step - loss: 9.9841e-06 - Accuracy: 1.0000\n",
            "Epoch 97/100\n",
            "368/368 [==============================] - 2s 6ms/step - loss: 8.2505e-06 - Accuracy: 1.0000\n",
            "Epoch 98/100\n",
            "368/368 [==============================] - 2s 6ms/step - loss: 6.8652e-06 - Accuracy: 1.0000\n",
            "Epoch 99/100\n",
            "368/368 [==============================] - 2s 6ms/step - loss: 5.9726e-06 - Accuracy: 1.0000\n",
            "Epoch 100/100\n",
            "368/368 [==============================] - 2s 6ms/step - loss: 5.3731e-06 - Accuracy: 1.0000\n"
          ]
        }
      ]
    },
    {
      "cell_type": "code",
      "source": [
        "model.save(\"/content/drive/MyDrive/stales and fresh vegetables/fruits.h5\")"
      ],
      "metadata": {
        "id": "vf4wZ16RtXlr"
      },
      "execution_count": 11,
      "outputs": []
    }
  ]
}